{
 "cells": [
  {
   "cell_type": "code",
   "execution_count": 1,
   "metadata": {},
   "outputs": [
    {
     "name": "stderr",
     "output_type": "stream",
     "text": [
      "/Users/mcmarten/Library/Python/3.7/lib/python/site-packages/pydot.py:18: UserWarning: Couldn't import dot_parser, loading of dot files will not be possible.\n"
     ]
    }
   ],
   "source": [
    "import numpy as np\n",
    "from tqdm import tqdm\n",
    "\n",
    "from gen_data import generate_data\n",
    "from model import Model\n",
    "import utils"
   ]
  },
  {
   "cell_type": "code",
   "execution_count": 11,
   "metadata": {},
   "outputs": [],
   "source": [
    "np.random.seed(0)"
   ]
  },
  {
   "cell_type": "code",
   "execution_count": 2,
   "metadata": {},
   "outputs": [],
   "source": [
    "def extract_weights(W, b, add_zero=False):\n",
    "    weights = W.numpy()\n",
    "    bias = b.numpy()\n",
    "    if add_zero:\n",
    "        weights = np.vstack((weights, np.zeros(1)))\n",
    "    weights = np.vstack((weights, bias)).flatten()\n",
    "    return weights"
   ]
  },
  {
   "cell_type": "code",
   "execution_count": null,
   "metadata": {},
   "outputs": [],
   "source": [
    "def run_model(train, test, loss_type):\n",
    "    train = X_train, y_train\n",
    "    test = X_test, y_test\n",
    "    model = Model(X_train.shape[1])\n",
    "    model.fit(X_train, y_train, loss_type)\n",
    "    y_pred = model.predict(X_test)\n",
    "    acc = utils.accuracy(y_test, y_pred)\n",
    "    pseudo_feature_weight = model.W[-1]\n",
    "    return acc, pseudo_feature_weight"
   ]
  },
  {
   "cell_type": "code",
   "execution_count": 3,
   "metadata": {},
   "outputs": [],
   "source": [
    "def experiment(n_trials=10):\n",
    "    accs_og = []\n",
    "    accs_regularized = []\n",
    "    accs_baseline = []\n",
    "    pseudo_w_regularized = []\n",
    "    pseudo_w_baseline = []\n",
    "    for i in tqdm(range(n_trials)):\n",
    "        data_in, data_in_out, data_original = generate_data()\n",
    "        X_train_base, y_train_base, X_test_base, y_test_base = data_in\n",
    "        X_train, y_train, X_test, y_test = data_in_out\n",
    "        X_train_og, y_train_og, X_test_og, y_test_og = data_original\n",
    "        \n",
    "        acc, _ = run_model((X_train_og, y_train_og), \n",
    "                           (X_test_og, y_test_og), \n",
    "                           'bce')\n",
    "        accs_og.append(acc)\n",
    "        \n",
    "        acc, pseudo_weight = run_model((X_train_base, y_train_base), \n",
    "                                       (X_test_base, y_test_base), \n",
    "                                       'bce')\n",
    "        accs_baseline.append(acc)\n",
    "        pseudo_w_baseline.append(pseudo_weight)\n",
    "\n",
    "        \n",
    "        acc, pseudo_weight = run_model((X_train, y_train), \n",
    "                                       (X_test, y_test), \n",
    "                                       'out')\n",
    "        accs_regularized.append(acc)\n",
    "        pseudo_w_regularized.append(pseudo_weight)\n",
    "        \n",
    "        \n",
    "    baseline_stats = {'mean_acc': np.mean(accs_baseline), \n",
    "                      'std': np.std(accs_baseline),\n",
    "                      'mean_pseudo_weight': np.mean(artifact_w_baseline)}\n",
    "    \n",
    "    og_stats = {'mean_acc': np.mean(accs_og), \n",
    "                      'std': np.std(accs_og)}\n",
    "    \n",
    "    regularized_stats = {'mean_acc': np.mean(accs_regularized), \n",
    "                      'std': np.std(accs_regularized),\n",
    "                      'mean_pseudo_weight': np.mean(artifact_w_regularized)}\n",
    "    \n",
    "    return og_stats, baseline_stats, regularized_stats"
   ]
  },
  {
   "cell_type": "code",
   "execution_count": 4,
   "metadata": {},
   "outputs": [
    {
     "name": "stderr",
     "output_type": "stream",
     "text": [
      "\r",
      "  0%|          | 0/100 [00:00<?, ?it/s]"
     ]
    },
    {
     "name": "stdout",
     "output_type": "stream",
     "text": [
      "WARNING:tensorflow:From /Users/mcmarten/Library/Python/3.7/lib/python/site-packages/tensorflow_core/python/ops/array_grad.py:502: _EagerTensorBase.cpu (from tensorflow.python.framework.ops) is deprecated and will be removed in a future version.\n",
      "Instructions for updating:\n",
      "Use tf.identity instead.\n"
     ]
    },
    {
     "name": "stderr",
     "output_type": "stream",
     "text": [
      "100%|██████████| 100/100 [02:31<00:00,  1.51s/it]\n"
     ]
    }
   ],
   "source": [
    "og_stats, baseline_stats, regularized_stats = experiment(n_trials=100)"
   ]
  },
  {
   "cell_type": "code",
   "execution_count": 5,
   "metadata": {},
   "outputs": [
    {
     "data": {
      "text/plain": [
       "{'mean_acc': 0.9459375, 'std': 0.030572339929256315}"
      ]
     },
     "execution_count": 5,
     "metadata": {},
     "output_type": "execute_result"
    }
   ],
   "source": [
    "og_stats"
   ]
  },
  {
   "cell_type": "code",
   "execution_count": 6,
   "metadata": {},
   "outputs": [
    {
     "data": {
      "text/plain": [
       "{'mean_acc': 0.6646875,\n",
       " 'std': 0.09242342692061359,\n",
       " 'mean_artifact_weight': 4.211347101934146,\n",
       " 'mean_distance': 4.961079748276202}"
      ]
     },
     "execution_count": 6,
     "metadata": {},
     "output_type": "execute_result"
    }
   ],
   "source": [
    "baseline_stats"
   ]
  },
  {
   "cell_type": "code",
   "execution_count": 7,
   "metadata": {},
   "outputs": [
    {
     "data": {
      "text/plain": [
       "{'mean_acc': 0.91203125,\n",
       " 'std': 0.026484720683584713,\n",
       " 'mean_artifact_weight': 0.5313282745580511,\n",
       " 'mean_distance': 1.7987647188935287}"
      ]
     },
     "execution_count": 7,
     "metadata": {},
     "output_type": "execute_result"
    }
   ],
   "source": [
    "regularized_stats"
   ]
  },
  {
   "cell_type": "code",
   "execution_count": null,
   "metadata": {},
   "outputs": [],
   "source": []
  }
 ],
 "metadata": {
  "kernelspec": {
   "display_name": "Python 3",
   "language": "python",
   "name": "python3"
  },
  "language_info": {
   "codemirror_mode": {
    "name": "ipython",
    "version": 3
   },
   "file_extension": ".py",
   "mimetype": "text/x-python",
   "name": "python",
   "nbconvert_exporter": "python",
   "pygments_lexer": "ipython3",
   "version": "3.7.3"
  }
 },
 "nbformat": 4,
 "nbformat_minor": 2
}
